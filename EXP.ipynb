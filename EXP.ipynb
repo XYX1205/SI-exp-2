{
  "nbformat": 4,
  "nbformat_minor": 0,
  "metadata": {
    "colab": {
      "provenance": []
    },
    "kernelspec": {
      "name": "python3",
      "display_name": "Python 3"
    },
    "language_info": {
      "name": "python"
    }
  },
  "cells": [
    {
      "cell_type": "code",
      "execution_count": null,
      "metadata": {
        "colab": {
          "base_uri": "https://localhost:8080/",
          "height": 17
        },
        "id": "uuJpE5RhVHgd",
        "outputId": "fb06160f-5fd0-4994-f2bb-2d9608f49d55"
      },
      "outputs": [
        {
          "output_type": "display_data",
          "data": {
            "text/plain": [
              "<IPython.core.display.Javascript object>"
            ],
            "application/javascript": [
              "\n",
              "    async function download(id, filename, size) {\n",
              "      if (!google.colab.kernel.accessAllowed) {\n",
              "        return;\n",
              "      }\n",
              "      const div = document.createElement('div');\n",
              "      const label = document.createElement('label');\n",
              "      label.textContent = `Downloading \"${filename}\": `;\n",
              "      div.appendChild(label);\n",
              "      const progress = document.createElement('progress');\n",
              "      progress.max = size;\n",
              "      div.appendChild(progress);\n",
              "      document.body.appendChild(div);\n",
              "\n",
              "      const buffers = [];\n",
              "      let downloaded = 0;\n",
              "\n",
              "      const channel = await google.colab.kernel.comms.open(id);\n",
              "      // Send a message to notify the kernel that we're ready.\n",
              "      channel.send({})\n",
              "\n",
              "      for await (const message of channel.messages) {\n",
              "        // Send a message to notify the kernel that we're ready.\n",
              "        channel.send({})\n",
              "        if (message.buffers) {\n",
              "          for (const buffer of message.buffers) {\n",
              "            buffers.push(buffer);\n",
              "            downloaded += buffer.byteLength;\n",
              "            progress.value = downloaded;\n",
              "          }\n",
              "        }\n",
              "      }\n",
              "      const blob = new Blob(buffers, {type: 'application/binary'});\n",
              "      const a = document.createElement('a');\n",
              "      a.href = window.URL.createObjectURL(blob);\n",
              "      a.download = filename;\n",
              "      div.appendChild(a);\n",
              "      a.click();\n",
              "      div.remove();\n",
              "    }\n",
              "  "
            ]
          },
          "metadata": {}
        },
        {
          "output_type": "display_data",
          "data": {
            "text/plain": [
              "<IPython.core.display.Javascript object>"
            ],
            "application/javascript": [
              "download(\"download_07dd9c53-c842-4fea-b956-2a9efbcf34a0\", \"experiment1_final.csv\", 3598)"
            ]
          },
          "metadata": {}
        },
        {
          "output_type": "display_data",
          "data": {
            "text/plain": [
              "<IPython.core.display.Javascript object>"
            ],
            "application/javascript": [
              "\n",
              "    async function download(id, filename, size) {\n",
              "      if (!google.colab.kernel.accessAllowed) {\n",
              "        return;\n",
              "      }\n",
              "      const div = document.createElement('div');\n",
              "      const label = document.createElement('label');\n",
              "      label.textContent = `Downloading \"${filename}\": `;\n",
              "      div.appendChild(label);\n",
              "      const progress = document.createElement('progress');\n",
              "      progress.max = size;\n",
              "      div.appendChild(progress);\n",
              "      document.body.appendChild(div);\n",
              "\n",
              "      const buffers = [];\n",
              "      let downloaded = 0;\n",
              "\n",
              "      const channel = await google.colab.kernel.comms.open(id);\n",
              "      // Send a message to notify the kernel that we're ready.\n",
              "      channel.send({})\n",
              "\n",
              "      for await (const message of channel.messages) {\n",
              "        // Send a message to notify the kernel that we're ready.\n",
              "        channel.send({})\n",
              "        if (message.buffers) {\n",
              "          for (const buffer of message.buffers) {\n",
              "            buffers.push(buffer);\n",
              "            downloaded += buffer.byteLength;\n",
              "            progress.value = downloaded;\n",
              "          }\n",
              "        }\n",
              "      }\n",
              "      const blob = new Blob(buffers, {type: 'application/binary'});\n",
              "      const a = document.createElement('a');\n",
              "      a.href = window.URL.createObjectURL(blob);\n",
              "      a.download = filename;\n",
              "      div.appendChild(a);\n",
              "      a.click();\n",
              "      div.remove();\n",
              "    }\n",
              "  "
            ]
          },
          "metadata": {}
        },
        {
          "output_type": "display_data",
          "data": {
            "text/plain": [
              "<IPython.core.display.Javascript object>"
            ],
            "application/javascript": [
              "download(\"download_f26b5b08-508e-4fd8-bc95-8233ca3f674a\", \"experiment2_final.csv\", 6257)"
            ]
          },
          "metadata": {}
        }
      ],
      "source": [
        "# Import packages\n",
        "import pandas as pd\n",
        "import numpy as np\n",
        "import datetime as dt\n",
        "import matplotlib.pyplot as plt\n",
        "from dateutil.relativedelta import *\n",
        "from pandas.tseries.offsets import *\n",
        "from scipy import stats\n",
        "from scipy.interpolate import make_interp_spline\n",
        "import csv\n",
        "import math\n",
        "import statsmodels.api as sm\n",
        "import os\n",
        "import time\n",
        "import glob\n",
        "from scipy.stats import norm\n",
        "from dateutil.relativedelta import relativedelta\n",
        "\n",
        "# Loading the CSV files\n",
        "exp1 = pd.read_csv('/content/experiment1_clean.csv')\n",
        "exp2 = pd.read_csv('/content/experiment2_clean.csv')\n",
        "\n",
        "# Processing\n",
        "exp1['answer'] = exp1.groupby(['scales', 'exp_group', 'stimulus', 'workerid'])['response'].transform('mean')\n",
        "exp2['answer'] = exp2.groupby(['scales', 'exp_group', 'stimulus', 'workerid'])['response'].transform('mean')\n",
        "\n",
        "exp1_1 = exp1[['workerid', 'scales', 'within_group', 'exp_group', 'answer', 'stimulus']].drop_duplicates()\n",
        "exp2_1 = exp2[['workerid', 'scales', 'within_group', 'exp_group', 'answer', 'stimulus']].drop_duplicates()\n",
        "\n",
        "exp1_1['obs'] = exp1_1.groupby(['scales', 'exp_group'])['workerid'].transform('count')\n",
        "exp2_1['obs'] = exp2_1.groupby(['scales', 'exp_group'])['workerid'].transform('count')\n",
        "\n",
        "exp1_1['yes'] = exp1_1.groupby(['scales', 'exp_group'])['answer'].transform(lambda x: (x == 0).sum())\n",
        "exp1_1['unsure'] = exp1_1.groupby(['scales', 'exp_group'])['answer'].transform(lambda x: (x == 0.5).sum())\n",
        "exp1_1['no'] = exp1_1.groupby(['scales', 'exp_group'])['answer'].transform(lambda x: (x == 1).sum())\n",
        "\n",
        "exp2_1['yes'] = exp2_1.groupby(['scales', 'exp_group'])['answer'].transform(lambda x: (x == 0).sum())\n",
        "exp2_1['unsure'] = exp2_1.groupby(['scales', 'exp_group'])['answer'].transform(lambda x: (x == 0.5).sum())\n",
        "exp2_1['no'] = exp2_1.groupby(['scales', 'exp_group'])['answer'].transform(lambda x: (x == 1).sum())\n",
        "\n",
        "exp1_1['yes_rate'] = exp1_1['yes'] / exp1_1['obs']\n",
        "exp1_1['unsure_rate'] = exp1_1['unsure'] / exp1_1['obs']\n",
        "exp1_1['no_rate'] = exp1_1['no'] / exp1_1['obs']\n",
        "\n",
        "exp2_1['yes_rate'] = exp2_1['yes'] / exp2_1['obs']\n",
        "exp2_1['unsure_rate'] = exp2_1['unsure'] / exp2_1['obs']\n",
        "exp2_1['no_rate'] = exp2_1['no'] / exp2_1['obs']\n",
        "\n",
        "exp1_2 = exp1_1.drop(columns=['workerid', 'answer']).drop_duplicates()\n",
        "exp2_2 = exp2_1.drop(columns=['workerid', 'answer']).drop_duplicates()\n",
        "\n",
        "exp1_2 = exp1_2.sort_values(['scales', 'exp_group'])\n",
        "exp2_2 = exp2_2.sort_values(['scales', 'exp_group'])\n",
        "\n",
        "# Saving\n",
        "exp1_2.to_csv('/content/experiment1_final.csv', index=False)\n",
        "exp2_2.to_csv('/content/experiment2_final.csv', index=False)\n",
        "\n",
        "# Download\n",
        "from google.colab import files\n",
        "files.download('/content/experiment1_final.csv')\n",
        "files.download('/content/experiment2_final.csv')\n"
      ]
    },
    {
      "cell_type": "code",
      "source": [
        "\n",
        "# Loading\n",
        "exp3 = pd.read_excel('/content/experiment3_clean.xlsx')\n",
        "exp4 = pd.read_excel('/content/experiment4_clean.xlsx')\n",
        "\n",
        "# Processing\n",
        "exp3['answer'] = exp3.groupby(['scales', 'exp_group', 'workerid'])['response'].transform('mean')\n",
        "exp4['answer'] = exp4.groupby(['scales', 'exp_group', 'workerid'])['response'].transform('mean')\n",
        "\n",
        "exp3_1 = exp3[['workerid', 'scales', 'within_group', 'exp_group', 'answer', 'stimulus']].drop_duplicates(subset=['workerid', 'scales', 'within_group', 'exp_group', 'answer'], keep='first')\n",
        "exp4_1 = exp4[['workerid', 'scales', 'within_group', 'exp_group', 'answer', 'stimulus']].drop_duplicates(subset=['workerid', 'scales', 'within_group', 'exp_group', 'answer'], keep='first')\n",
        "\n",
        "exp3_1['obs'] = exp3_1.groupby(['scales', 'exp_group'])['workerid'].transform('count')\n",
        "exp4_1['obs'] = exp4_1.groupby(['scales', 'exp_group'])['workerid'].transform('count')\n",
        "\n",
        "for df in [exp3_1, exp4_1]:\n",
        "    df['yes'] = df.groupby(['scales', 'exp_group'])['answer'].transform(lambda x: (x == 0).sum())\n",
        "    df['unsure'] = df.groupby(['scales', 'exp_group'])['answer'].transform(lambda x: (x == 0.5).sum())\n",
        "    df['no'] = df.groupby(['scales', 'exp_group'])['answer'].transform(lambda x: (x == 1).sum())\n",
        "\n",
        "    df['yes_rate'] = df['yes'] / df['obs']\n",
        "    df['unsure_rate'] = df['unsure'] / df['obs']\n",
        "    df['no_rate'] = df['no'] / df['obs']\n",
        "\n",
        "exp3_2 = exp3_1.drop(columns=['workerid', 'answer']).drop_duplicates().sort_values(['scales', 'exp_group'])\n",
        "exp4_2 = exp4_1.drop(columns=['workerid', 'answer']).drop_duplicates().sort_values(['scales', 'exp_group'])\n",
        "\n",
        "# Saving\n",
        "exp3_2.to_excel('/content/experiment3_final.xlsx', index=False)\n",
        "exp4_2.to_excel('/content/experiment4_final.xlsx', index=False)\n",
        "\n",
        "# Download\n",
        "files.download('/content/experiment3_final.xlsx')\n",
        "files.download('/content/experiment4_final.xlsx')\n"
      ],
      "metadata": {
        "colab": {
          "base_uri": "https://localhost:8080/",
          "height": 17
        },
        "id": "0U2NwqxGhNYA",
        "outputId": "a4a90da6-b11d-476c-d610-bc59e9f14119"
      },
      "execution_count": null,
      "outputs": [
        {
          "output_type": "display_data",
          "data": {
            "text/plain": [
              "<IPython.core.display.Javascript object>"
            ],
            "application/javascript": [
              "\n",
              "    async function download(id, filename, size) {\n",
              "      if (!google.colab.kernel.accessAllowed) {\n",
              "        return;\n",
              "      }\n",
              "      const div = document.createElement('div');\n",
              "      const label = document.createElement('label');\n",
              "      label.textContent = `Downloading \"${filename}\": `;\n",
              "      div.appendChild(label);\n",
              "      const progress = document.createElement('progress');\n",
              "      progress.max = size;\n",
              "      div.appendChild(progress);\n",
              "      document.body.appendChild(div);\n",
              "\n",
              "      const buffers = [];\n",
              "      let downloaded = 0;\n",
              "\n",
              "      const channel = await google.colab.kernel.comms.open(id);\n",
              "      // Send a message to notify the kernel that we're ready.\n",
              "      channel.send({})\n",
              "\n",
              "      for await (const message of channel.messages) {\n",
              "        // Send a message to notify the kernel that we're ready.\n",
              "        channel.send({})\n",
              "        if (message.buffers) {\n",
              "          for (const buffer of message.buffers) {\n",
              "            buffers.push(buffer);\n",
              "            downloaded += buffer.byteLength;\n",
              "            progress.value = downloaded;\n",
              "          }\n",
              "        }\n",
              "      }\n",
              "      const blob = new Blob(buffers, {type: 'application/binary'});\n",
              "      const a = document.createElement('a');\n",
              "      a.href = window.URL.createObjectURL(blob);\n",
              "      a.download = filename;\n",
              "      div.appendChild(a);\n",
              "      a.click();\n",
              "      div.remove();\n",
              "    }\n",
              "  "
            ]
          },
          "metadata": {}
        },
        {
          "output_type": "display_data",
          "data": {
            "text/plain": [
              "<IPython.core.display.Javascript object>"
            ],
            "application/javascript": [
              "download(\"download_eb88d01c-5ae9-47e5-88b2-02448bb0040f\", \"experiment3_final.xlsx\", 6351)"
            ]
          },
          "metadata": {}
        },
        {
          "output_type": "display_data",
          "data": {
            "text/plain": [
              "<IPython.core.display.Javascript object>"
            ],
            "application/javascript": [
              "\n",
              "    async function download(id, filename, size) {\n",
              "      if (!google.colab.kernel.accessAllowed) {\n",
              "        return;\n",
              "      }\n",
              "      const div = document.createElement('div');\n",
              "      const label = document.createElement('label');\n",
              "      label.textContent = `Downloading \"${filename}\": `;\n",
              "      div.appendChild(label);\n",
              "      const progress = document.createElement('progress');\n",
              "      progress.max = size;\n",
              "      div.appendChild(progress);\n",
              "      document.body.appendChild(div);\n",
              "\n",
              "      const buffers = [];\n",
              "      let downloaded = 0;\n",
              "\n",
              "      const channel = await google.colab.kernel.comms.open(id);\n",
              "      // Send a message to notify the kernel that we're ready.\n",
              "      channel.send({})\n",
              "\n",
              "      for await (const message of channel.messages) {\n",
              "        // Send a message to notify the kernel that we're ready.\n",
              "        channel.send({})\n",
              "        if (message.buffers) {\n",
              "          for (const buffer of message.buffers) {\n",
              "            buffers.push(buffer);\n",
              "            downloaded += buffer.byteLength;\n",
              "            progress.value = downloaded;\n",
              "          }\n",
              "        }\n",
              "      }\n",
              "      const blob = new Blob(buffers, {type: 'application/binary'});\n",
              "      const a = document.createElement('a');\n",
              "      a.href = window.URL.createObjectURL(blob);\n",
              "      a.download = filename;\n",
              "      div.appendChild(a);\n",
              "      a.click();\n",
              "      div.remove();\n",
              "    }\n",
              "  "
            ]
          },
          "metadata": {}
        },
        {
          "output_type": "display_data",
          "data": {
            "text/plain": [
              "<IPython.core.display.Javascript object>"
            ],
            "application/javascript": [
              "download(\"download_5c9d1488-d110-422d-8537-328384bc48ff\", \"experiment4_final.xlsx\", 7202)"
            ]
          },
          "metadata": {}
        }
      ]
    }
  ]
}